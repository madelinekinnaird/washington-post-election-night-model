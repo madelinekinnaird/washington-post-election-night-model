{
 "cells": [
  {
   "cell_type": "code",
   "execution_count": 121,
   "metadata": {},
   "outputs": [],
   "source": [
    "import pandas as pd\n",
    "import numpy as np\n",
    "import missingno as miss\n"
   ]
  },
  {
   "cell_type": "code",
   "execution_count": 122,
   "metadata": {},
   "outputs": [],
   "source": [
    "## import csvs\n",
    "df1 = pd.read_csv(\"county_ages.csv\")\n",
    "df2 = pd.read_csv(\"county_demographics.csv\")\n",
    "df3 = pd.read_csv(\"countypres_2000-2016.csv\")\n",
    "df4 = pd.read_csv(\"2020_county_results.csv\")\n"
   ]
  },
  {
   "cell_type": "code",
   "execution_count": 123,
   "metadata": {},
   "outputs": [],
   "source": [
    "df3 = df3[df3['year'] == 2016].groupby('FIPS').mean().reset_index()"
   ]
  },
  {
   "cell_type": "code",
   "execution_count": 125,
   "metadata": {},
   "outputs": [],
   "source": [
    "## change age columns to match what I want\n",
    "df1 = df1.drop(['Unnamed: 0'], axis = 1)\n",
    "df2 = df2.drop(['Unnamed: 0'], axis = 1)\n",
    "\n",
    "## MALE\n",
    "## less than 30\n",
    "m_le_30 = ['M5','M5-9', 'M10-14', 'M15-17', 'M18-19', 'M20', 'M21', 'M22-24', 'M25-29']\n",
    "df1['male_le_30'] = df1[m_le_30].sum(axis = 1)\n",
    "df1 = df1.drop(df1[m_le_30], axis = 1)\n",
    "\n",
    "## 30 - 45\n",
    "m_ge_30_le_45 = ['M30-34', 'M35-39', 'M40-44']\n",
    "df1['male_ge_30_le_45'] = df1[m_ge_30_le_45].sum(axis = 1)\n",
    "df1 = df1.drop(df1[m_ge_30_le_45], axis = 1)\n",
    "\n",
    "## 45 - 65\n",
    "m_ge_45_le_65 = ['M45-49', 'M50-54', 'M55-59', 'M60-61', 'M62-64']\n",
    "df1['male_ge_45_le_65'] = df1[m_ge_45_le_65].sum(axis = 1)\n",
    "df1 = df1.drop(df1[m_ge_45_le_65], axis = 1)\n",
    "\n",
    "## 65+\n",
    "m_ge_65 = ['M65-66', 'M67-69', 'M70-74', 'M76-79', 'M80-84', 'M85+']\n",
    "df1['male_ge_65'] = df1[m_ge_65].sum(axis = 1)\n",
    "df1 = df1.drop(df1[m_ge_65], axis = 1)\n",
    "\n",
    "\n",
    "## FEMALE\n",
    "## less than 30\n",
    "f_le_30 = ['W5','W5-9', 'W10-14', 'W15-17', 'W18-19', 'W20', 'W21', 'W22-24', 'W25-29']\n",
    "df1['female_le_30'] = df1[f_le_30].sum(axis = 1)\n",
    "df1 = df1.drop(df1[f_le_30], axis = 1)\n",
    "\n",
    "## 30 - 45\n",
    "f_ge_30_le_45 = ['W30-34', 'W35-39', 'W40-44']\n",
    "df1['female_ge_30_le_45'] = df1[f_ge_30_le_45].sum(axis = 1)\n",
    "df1 = df1.drop(df1[f_ge_30_le_45], axis = 1)\n",
    "\n",
    "## 45 - 65\n",
    "f_ge_45_le_65 = ['W45-49', 'W50-54', 'W55-59', 'W60-61', 'W62-64']\n",
    "df1['female_ge_45_le_65'] = df1[f_ge_45_le_65].sum(axis = 1)\n",
    "df1 = df1.drop(df1[f_ge_45_le_65], axis = 1)\n",
    "\n",
    "## 65+\n",
    "f_ge_65 = ['W65-66', 'W67-69', 'W70-74', 'W76-79', 'W80-84', 'W85+']\n",
    "df1['female_ge_65'] = df1[f_ge_65].sum(axis = 1)\n",
    "df1 = df1.drop(df1[f_ge_65], axis = 1)\n",
    "\n",
    "## join male and female\n",
    "df1['age_le_30'] = df1['female_le_30'] + df1['male_le_30']\n",
    "df1['age_ge_30_le_45'] = df1['female_ge_30_le_45'] + df1['male_ge_30_le_45']\n",
    "df1['age_ge_45_le_65'] = df1['female_ge_45_le_65'] + df1['male_ge_45_le_65']\n",
    "df1['age_ge_65'] = df1['female_ge_65'] + df1['male_ge_65']\n"
   ]
  },
  {
   "cell_type": "code",
   "execution_count": 126,
   "metadata": {},
   "outputs": [],
   "source": [
    "## merge dataframes\n",
    "df = pd.merge(df1,df2, how='left', on=['NAME','state', 'county', 'fips'])\n",
    "df = pd.merge(df,df3[['FIPS', 'totalvotes']], how='left', left_on=['fips'], right_on=['FIPS'])\n",
    "df = pd.merge(df,df4[['fips','votes']], how='left', left_on=['fips'], right_on=['fips'])\n",
    "\n",
    "## drop redundant columns\n",
    "df = df.drop(['FIPS'], axis = 1)"
   ]
  },
  {
   "cell_type": "code",
   "execution_count": 133,
   "metadata": {},
   "outputs": [],
   "source": [
    "df = df.rename(columns={\"totalvotes\": \"total_votes_2016\", \"votes\": \"total_votes_2020\"})"
   ]
  },
  {
   "cell_type": "code",
   "execution_count": 135,
   "metadata": {},
   "outputs": [],
   "source": [
    "## export as csv\n",
    "df.to_csv('county_data.csv')"
   ]
  }
 ],
 "metadata": {
  "kernelspec": {
   "display_name": "Python 3",
   "language": "python",
   "name": "python3"
  },
  "language_info": {
   "codemirror_mode": {
    "name": "ipython",
    "version": 3
   },
   "file_extension": ".py",
   "mimetype": "text/x-python",
   "name": "python",
   "nbconvert_exporter": "python",
   "pygments_lexer": "ipython3",
   "version": "3.8.3"
  }
 },
 "nbformat": 4,
 "nbformat_minor": 4
}
